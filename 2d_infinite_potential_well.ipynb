{
  "cells": [
    {
      "cell_type": "code",
      "execution_count": 1,
      "metadata": {
        "id": "HGIk5SuU_8jW"
      },
      "outputs": [],
      "source": [
        "import sympy as sp\n",
        "from sympy.utilities.lambdify import lambdify\n",
        "import numpy as np\n",
        "import matplotlib.pyplot as plt\n",
        "from matplotlib import cm\n",
        "from matplotlib.animation import FuncAnimation\n",
        "from IPython.display import HTML\n",
        "from mpl_toolkits.mplot3d import Axes3D\n",
        "sp.init_printing()"
      ]
    },
    {
      "cell_type": "code",
      "execution_count": 2,
      "metadata": {
        "id": "D4iIvOTq9MC3"
      },
      "outputs": [],
      "source": [
        "x = sp.Symbol('x', real = True)\n",
        "y = sp.Symbol('y', real = True)\n",
        "n1 = sp.Symbol('n1', integer = True, positive = True)\n",
        "n2 = sp.Symbol('n2', integer = True, positive = True)\n",
        "t = sp.Symbol('t', real = True, positive = True)\n",
        "L = sp.Symbol('L', real = True, positive = True)\n",
        "sin = sp.Function('sin')\n",
        "m = sp.Symbol('m', real = True, positive = True)\n",
        "h = sp.Symbol('hbar', real = True, positive = True)"
      ]
    },
    {
      "cell_type": "code",
      "execution_count": 3,
      "metadata": {
        "colab": {
          "base_uri": "https://localhost:8080/",
          "height": 56
        },
        "id": "bGXeDt5Z8_AN",
        "outputId": "0fde5d62-3724-40c7-d47b-ea5e3c756123"
      },
      "outputs": [
        {
          "data": {
            "image/png": "[encoded data removed]",
            "text/latex": [
              "$\\displaystyle \\frac{2 \\sin{\\left(\\frac{\\pi n_{1} x}{L} \\right)} \\sin{\\left(\\frac{\\pi n_{2} y}{L} \\right)}}{L}$"
            ],
            "text/plain": [
              "     ⎛π⋅n₁⋅x⎞    ⎛π⋅n₂⋅y⎞\n",
              "2⋅sin⎜──────⎟⋅sin⎜──────⎟\n",
              "     ⎝  L   ⎠    ⎝  L   ⎠\n",
              "─────────────────────────\n",
              "            L            "
            ]
          },
          "execution_count": 3,
          "metadata": {},
          "output_type": "execute_result"
        }
      ],
      "source": [
        "psi = (2 / L) * sin(n1 * sp.pi * x / L) * sin(n2 * sp.pi * y / L)\n",
        "psi"
      ]
    },
    {
      "cell_type": "code",
      "execution_count": 4,
      "metadata": {
        "colab": {
          "base_uri": "https://localhost:8080/",
          "height": 70
        },
        "id": "Mz06wG1t_Zp9",
        "outputId": "82b5707c-58d4-4f4e-bfee-0bfa012f572b"
      },
      "outputs": [
        {
          "data": {
            "image/png": "[encoded data removed]",
            "text/latex": [
              "$\\displaystyle \\frac{2 e^{- \\frac{i \\pi^{2} \\hbar^{2} t \\left(n_{1}^{2} + n_{2}^{2}\\right)}{2 L^{2} m}} \\sin{\\left(\\frac{\\pi n_{1} x}{L} \\right)} \\sin{\\left(\\frac{\\pi n_{2} y}{L} \\right)}}{L}$"
            ],
            "text/plain": [
              "       2  2   ⎛  2     2⎞                         \n",
              "   -ⅈ⋅π ⋅h̅ ⋅t⋅⎝n₁  + n₂ ⎠                         \n",
              "   ───────────────────────                        \n",
              "               2                                  \n",
              "            2⋅L ⋅m            ⎛π⋅n₁⋅x⎞    ⎛π⋅n₂⋅y⎞\n",
              "2⋅ℯ                       ⋅sin⎜──────⎟⋅sin⎜──────⎟\n",
              "                              ⎝  L   ⎠    ⎝  L   ⎠\n",
              "──────────────────────────────────────────────────\n",
              "                        L                         "
            ]
          },
          "execution_count": 4,
          "metadata": {},
          "output_type": "execute_result"
        }
      ],
      "source": [
        "Psi = psi * sp.exp((-sp.I * sp.pi**2 * h**2 * t / (2 * m * L**2)) * (n1**2 + n2**2))\n",
        "Psi"
      ]
    },
    {
      "cell_type": "code",
      "execution_count": 5,
      "metadata": {
        "colab": {
          "base_uri": "https://localhost:8080/"
        },
        "id": "U5RuBUdcBpuT",
        "outputId": "add32144-0625-4bb3-c4db-967b78367343"
      },
      "outputs": [],
      "source": [
        "Psif = lambdify((x, y, t, n1, n2), Psi.subs({h: 1, m: 1, L: 1}))"
      ]
    },
    {
      "cell_type": "code",
      "execution_count": 14,
      "metadata": {
        "id": "5XL3s8HuAqWX"
      },
      "outputs": [],
      "source": [
        "n1 = 2\n",
        "n2 = 2\n",
        "xs = np.linspace(0, 1, 100, dtype=float)\n",
        "ys = np.linspace(0, 1, 100, dtype=float)\n",
        "xs, ys = np.meshgrid(xs, ys)\n",
        "\n",
        "fig = plt.figure(figsize = (15, 15))\n",
        "ax = fig.add_subplot(projection = \"3d\")\n",
        "ax.set_xlim(0, 1)\n",
        "ax.set_ylim(0, 1)\n",
        "\n",
        "plt.close()\n",
        "\n",
        "dt = 0.001\n",
        "\n",
        "def frame(i):\n",
        "    t = i * dt\n",
        "    zs = Psif(xs, ys, t, n1, n2)\n",
        "    ax.cla()\n",
        "    surf1 = ax.plot_surface(xs, ys, zs.real, cmap=cm.coolwarm,\n",
        "                    linewidth=0, antialiased=False)\n",
        "    # surf2 = ax.plot_surface(xs, ys, zs.imag, cmap=cm.coolwarm,\n",
        "    #                 linewidth=0, antialiased=False)\n",
        "    ax.set_zlim(-2, 2)\n",
        "    return surf1,\n",
        "\n",
        "anim = FuncAnimation(fig, frame, frames = 600, interval = 50, blit = True)\n",
        "anim.save('2D_infinite_well_2x2.mp4')"
      ]
    },
    {
      "cell_type": "code",
      "execution_count": 13,
      "metadata": {},
      "outputs": [
        {
          "name": "stderr",
          "output_type": "stream",
          "text": [
            "/tmp/ipykernel_3904/14628527.py:8: MatplotlibDeprecationWarning: Axes3D(fig) adding itself to the figure is deprecated since 3.4. Pass the keyword argument auto_add_to_figure=False and use fig.add_axes(ax) to suppress this warning. The default value of auto_add_to_figure will change to False in mpl3.5 and True values will no longer work in 3.6.  This is consistent with other Axes classes.\n",
            "  ax = Axes3D(fig)\n"
          ]
        }
      ],
      "source": [
        "n1 = 2\n",
        "n2 = 2\n",
        "xs = np.linspace(0, 1, 100, dtype=float)\n",
        "ys = np.linspace(0, 1, 100, dtype=float)\n",
        "xs, ys = np.meshgrid(xs, ys)\n",
        "\n",
        "fig = plt.figure(figsize = (15, 15))\n",
        "ax = Axes3D(fig)\n",
        "ax.set_xlim(0, 1)\n",
        "ax.set_ylim(0, 1)\n",
        "\n",
        "plt.close()\n",
        "\n",
        "dt = 0.001\n",
        "\n",
        "def frame(i):\n",
        "    t = i * dt\n",
        "    zs = np.abs(Psif(xs, ys, t, n1, n2))**2\n",
        "    ax.cla()\n",
        "    surf1 = ax.plot_surface(xs, ys, zs, cmap=cm.coolwarm,\n",
        "                    linewidth=0, antialiased=False)\n",
        "    ax.set_zlim(-2, 4)\n",
        "    return surf1,\n",
        "\n",
        "anim = FuncAnimation(fig, frame, frames = 600, interval = 50, blit = True)\n",
        "anim.save('2D_infinite_well_2x2_energy.mp4')"
      ]
    },
    {
      "cell_type": "code",
      "execution_count": 12,
      "metadata": {},
      "outputs": [
        {
          "name": "stderr",
          "output_type": "stream",
          "text": [
            "/tmp/ipykernel_3904/4081308061.py:6: MatplotlibDeprecationWarning: Axes3D(fig) adding itself to the figure is deprecated since 3.4. Pass the keyword argument auto_add_to_figure=False and use fig.add_axes(ax) to suppress this warning. The default value of auto_add_to_figure will change to False in mpl3.5 and True values will no longer work in 3.6.  This is consistent with other Axes classes.\n",
            "  ax = Axes3D(fig)\n"
          ]
        }
      ],
      "source": [
        "xs = np.linspace(0, 1, 100, dtype=float)\n",
        "ys = np.linspace(0, 1, 100, dtype=float)\n",
        "xs, ys = np.meshgrid(xs, ys)\n",
        "\n",
        "fig = plt.figure(figsize = (15, 15))\n",
        "ax = Axes3D(fig)\n",
        "ax.set_xlim(0, 1)\n",
        "ax.set_ylim(0, 1)\n",
        "\n",
        "plt.close()\n",
        "\n",
        "dt = 0.001\n",
        "\n",
        "def frame(i):\n",
        "    t = i * dt\n",
        "    zs = Psif(xs, ys, t, 1, 2) / np.sqrt(2) + Psif(xs, ys, t, 2, 2) / np.sqrt(2)\n",
        "    ax.cla()\n",
        "    surf1 = ax.plot_surface(xs, ys, zs.real, cmap=cm.coolwarm,\n",
        "                    linewidth=0, antialiased=False)\n",
        "    # surf2 = ax.plot_surface(xs, ys, zs.imag, cmap=cm.coolwarm,\n",
        "    #                 linewidth=0, antialiased=False)\n",
        "    ax.set_zlim(-2, 4)\n",
        "    return surf1,\n",
        "\n",
        "anim = FuncAnimation(fig, frame, frames = 600, interval = 50, blit = True)\n",
        "anim.save('2D_infinite_well_combined.mp4')"
      ]
    },
    {
      "cell_type": "code",
      "execution_count": 11,
      "metadata": {},
      "outputs": [
        {
          "name": "stderr",
          "output_type": "stream",
          "text": [
            "/tmp/ipykernel_3904/2785273886.py:6: MatplotlibDeprecationWarning: Axes3D(fig) adding itself to the figure is deprecated since 3.4. Pass the keyword argument auto_add_to_figure=False and use fig.add_axes(ax) to suppress this warning. The default value of auto_add_to_figure will change to False in mpl3.5 and True values will no longer work in 3.6.  This is consistent with other Axes classes.\n",
            "  ax = Axes3D(fig)\n"
          ]
        }
      ],
      "source": [
        "xs = np.linspace(0, 1, 100, dtype=float)\n",
        "ys = np.linspace(0, 1, 100, dtype=float)\n",
        "xs, ys = np.meshgrid(xs, ys)\n",
        "\n",
        "fig = plt.figure(figsize = (15, 15))\n",
        "ax = Axes3D(fig)\n",
        "ax.set_xlim(0, 1)\n",
        "ax.set_ylim(0, 1)\n",
        "\n",
        "plt.close()\n",
        "\n",
        "dt = 0.001\n",
        "\n",
        "def frame(i):\n",
        "    t = i * dt\n",
        "    zs = Psif(xs, ys, t, 1, 2) / np.sqrt(2) + Psif(xs, ys, t, 2, 2) / np.sqrt(2)\n",
        "    zs = np.abs(zs)**2\n",
        "    ax.cla()\n",
        "    surf1 = ax.plot_surface(xs, ys, zs, cmap=cm.coolwarm,\n",
        "                    linewidth=0, antialiased=False)\n",
        "    ax.set_zlim(-2, 4)\n",
        "    return surf1,\n",
        "\n",
        "anim = FuncAnimation(fig, frame, frames = 600, interval = 50, blit = True)\n",
        "anim.save('2D_infinite_well_combined_energy.mp4')"
      ]
    }
  ],
  "metadata": {
    "colab": {
      "provenance": []
    },
    "kernelspec": {
      "display_name": "Python 3.8.10 64-bit",
      "language": "python",
      "name": "python3"
    },
    "language_info": {
      "codemirror_mode": {
        "name": "ipython",
        "version": 3
      },
      "file_extension": ".py",
      "mimetype": "text/x-python",
      "name": "python",
      "nbconvert_exporter": "python",
      "pygments_lexer": "ipython3",
      "version": "3.8.10"
    },
    "vscode": {
      "interpreter": {
        "hash": "31f2aee4e71d21fbe5cf8b01ff0e069b9275f58929596ceb00d14d90e3e16cd6"
      }
    }
  },
  "nbformat": 4,
  "nbformat_minor": 0
}
